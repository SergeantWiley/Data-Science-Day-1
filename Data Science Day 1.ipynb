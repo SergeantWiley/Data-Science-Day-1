{
  "cells": [
    {
      "cell_type": "markdown",
      "metadata": {
        "id": "KdERlTpFuL5V"
      },
      "source": [
        "# Exercises"
      ]
    },
    {
      "cell_type": "markdown",
      "metadata": {
        "id": "to-gsrQyuL5Z"
      },
      "source": [
        "### #1 - Calculate the BMI (body mass index) on the two lists below using NDArrays..."
      ]
    },
    {
      "cell_type": "code",
      "execution_count": 5,
      "metadata": {
        "id": "iZlf9DzeuL5a"
      },
      "outputs": [
        {
          "name": "stdout",
          "output_type": "stream",
          "text": [
            "[16.86620458 17.87755102 18.82562984 19.71450617 20.54794521 21.32943755\n",
            " 22.06222222]\n"
          ]
        }
      ],
      "source": [
        "import numpy as np\n",
        "# formula = weight / (height**2) * 730\n",
        "height = [69, 70, 71, 72, 73, 74, 75]\n",
        "weight = [110, 120, 130, 140, 150, 160, 170]\n",
        "\n",
        "height = np.array(height)\n",
        "weight = np.array(weight)\n",
        "\n",
        "bmi = weight / (height**2) * 730\n",
        "print(bmi)"
      ]
    },
    {
      "cell_type": "markdown",
      "metadata": {
        "id": "RSsT8w8ouL5b"
      },
      "source": [
        "### #2 - Create a function that will take in two parameters and will create a random matrix based off of those parameters. Extra: Have additional parameters taken in that allow the user to choose the shape and data type of the matrix."
      ]
    },
    {
      "cell_type": "code",
      "execution_count": 10,
      "metadata": {
        "id": "ygFvj0aeuL5b"
      },
      "outputs": [
        {
          "name": "stdout",
          "output_type": "stream",
          "text": [
            "[[17.34666962 12.52561744 16.95143344 10.75182333 15.71474866 17.28321951\n",
            "  19.02153591 15.04281501 15.39989363 16.52835213]\n",
            " [16.81244336 10.72776947 18.75919018 16.73082811 19.52726796 16.24576185\n",
            "  15.09863366 16.13565939 19.30490549 12.22166004]\n",
            " [17.01083065 15.04697864 19.35812188 17.01852564 16.60440601 17.22092464\n",
            "  12.03932112 18.78248203 13.61147283 15.0833098 ]\n",
            " [13.05166259 17.04737579 16.25472071 12.94940588 13.93973105 11.89720562\n",
            "  12.19164888 11.33481688 15.88015201 12.66182463]\n",
            " [16.34527875 15.10648542 11.13209128 13.48763827 16.82120847 12.07494481\n",
            "  12.56174954 18.24421599 11.31748538 12.18875462]\n",
            " [10.40283916 12.05012134 14.79552167 10.23560524 15.3451705  19.58088605\n",
            "  17.27095383 11.83465575 15.42898116 13.00972905]\n",
            " [15.73405843 13.57249508 15.74456251 15.38108631 15.50637284 17.31932537\n",
            "  11.10330932 19.62570956 15.39277668 12.14233882]\n",
            " [11.91275019 11.00038097 15.80070941 15.32657436 15.69956329 13.20703895\n",
            "  14.14205849 17.73897381 15.58008569 19.19260664]\n",
            " [11.76079567 19.38631618 16.53182482 12.24151086 18.68074444 11.47640933\n",
            "  14.17339402 12.45851571 19.17299303 15.96156008]\n",
            " [14.88999581 17.49421195 19.72286592 18.69644009 15.18077867 14.81886372\n",
            "  10.86013849 19.74622547 18.62320281 11.52445185]]\n"
          ]
        }
      ],
      "source": [
        "import numpy as np\n",
        "\n",
        "def make_matrix(min,max,shape=(4,4)):\n",
        "\n",
        "    return np.random.uniform(min,max,size=shape).astype(float)\n",
        "# As an addition, I included the formula for converting high dimensional arrays ()\n",
        "print(make_matrix(10,20)) # Without"
      ]
    },
    {
      "cell_type": "markdown",
      "metadata": {
        "id": "e5mP1UX9uL5c"
      },
      "source": [
        "### #3 - Extra: Open and load the data in the two text files that have the Boston Red Sox hitting data for the past seasons. Compare the difference in the two years by putting the data into an NDArray and running a differencial operation on it. The column to look for will be SLG.\n",
        "\n",
        "Your output should display which year (either 2017 or 2018) was a better year based on SLG"
      ]
    },
    {
      "cell_type": "code",
      "execution_count": 3,
      "metadata": {
        "id": "iAExC-SjuL5c"
      },
      "outputs": [],
      "source": [
        "import csv\n",
        "import numpy as np\n",
        "\n",
        "\n"
      ]
    },
    {
      "cell_type": "code",
      "execution_count": 4,
      "metadata": {
        "id": "P8Rwr8lmuL5e"
      },
      "outputs": [],
      "source": [
        "FIELDS = ['Rk', 'Pos', 'Name', 'Age', 'G', 'PA', 'AB', 'R', 'H', '2B', '3B', 'HR', 'RBI', 'SB', 'CS', \n",
        "          'BB', 'SO', 'BA', 'OBP', 'SLG', 'OPS', 'OPS+', 'TB', 'GDP', 'HBP', 'SH', 'SF', 'IBB']\n",
        "\n",
        "DATATYPES = [('rk', 'i'), ('pos', '|S25'), ('name', '|S25'), ('age', 'i'), ('g', 'i'), ('pa', 'i'), ('ab', 'i'),\n",
        "                ('r', 'i'), ('h', 'i'), ('2b', 'i'), ('3b', 'i'), ('hr', 'i'), ('rbi', 'i'), ('sb', 'i'), ('cs', 'i'),\n",
        "                ('bb', 'i'), ('so', 'i'), ('ba', 'f'), ('obp', 'f'), ('slg', 'f'), ('ops', 'f'), ('opsp', 'i'),\n",
        "                ('tb', 'i'), ('gdp', 'i'), ('hbp', 'i'), ('sh', 'i'), ('sf', 'i'), ('ibb', 'i')]\n",
        "\n",
        "#Use this function to actually open the data inside of a NDArray\n",
        "\n",
        "\n"
      ]
    }
  ],
  "metadata": {
    "colab": {
      "name": "Copy of Data_Science_Day_1_Exercises-Day1- Homework.ipynb",
      "provenance": []
    },
    "kernelspec": {
      "display_name": "Python 3",
      "language": "python",
      "name": "python3"
    },
    "language_info": {
      "codemirror_mode": {
        "name": "ipython",
        "version": 3
      },
      "file_extension": ".py",
      "mimetype": "text/x-python",
      "name": "python",
      "nbconvert_exporter": "python",
      "pygments_lexer": "ipython3",
      "version": "3.11.5"
    }
  },
  "nbformat": 4,
  "nbformat_minor": 0
}
